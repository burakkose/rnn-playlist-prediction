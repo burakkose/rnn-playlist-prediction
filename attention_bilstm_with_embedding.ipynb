{
 "cells": [
  {
   "cell_type": "markdown",
   "metadata": {},
   "source": [
    "# BiLSTM with attention and word2vec embedding input"
   ]
  },
  {
   "cell_type": "code",
   "execution_count": null,
   "metadata": {},
   "outputs": [
    {
     "name": "stderr",
     "output_type": "stream",
     "text": [
      "/usr/lib/python3.6/site-packages/h5py/__init__.py:36: FutureWarning: Conversion of the second argument of issubdtype from `float` to `np.floating` is deprecated. In future, it will be treated as `np.float64 == np.dtype(float).type`.\n",
      "  from ._conv import register_converters as _register_converters\n",
      "Using TensorFlow backend.\n",
      "2018-05-30 21:36:17,580 : INFO : 'pattern' package not found; tag filters are not available for English\n",
      "2018-05-30 21:36:17,610 : INFO : loading projection weights from bin/embeddings/embedding.txt\n",
      "2018-05-30 21:36:18,337 : INFO : loaded (9774, 128) matrix from bin/embeddings/embedding.txt\n"
     ]
    },
    {
     "name": "stdout",
     "output_type": "stream",
     "text": [
      "Epoch 1/50\n",
      "104/337 [========>.....................] - ETA: 2:20 - loss: -0.3386 - mean_absolute_error: 0.7041 - mean_squared_error: 0.9303 - acc: 0.1071 - mean_absolute_percentage_error: 964.6728 - cosine_proximity: -0.3386"
     ]
    }
   ],
   "source": [
    "from playlist.models.embedding_model_generator import EmbeddingModelGenerator\n",
    "from playlist.tools.data import DatasetMode\n",
    "from playlist.models.model_modes import *\n",
    "\n",
    "EmbeddingModelGenerator(mode=DatasetMode.big, model_name=ModelName.attention_bilstm).process().evaluate()"
   ]
  },
  {
   "cell_type": "code",
   "execution_count": null,
   "metadata": {
    "collapsed": true
   },
   "outputs": [],
   "source": []
  }
 ],
 "metadata": {
  "kernelspec": {
   "display_name": "Python 3",
   "language": "python",
   "name": "python3"
  },
  "language_info": {
   "codemirror_mode": {
    "name": "ipython",
    "version": 3
   },
   "file_extension": ".py",
   "mimetype": "text/x-python",
   "name": "python",
   "nbconvert_exporter": "python",
   "pygments_lexer": "ipython3",
   "version": "3.6.4"
  }
 },
 "nbformat": 4,
 "nbformat_minor": 2
}
